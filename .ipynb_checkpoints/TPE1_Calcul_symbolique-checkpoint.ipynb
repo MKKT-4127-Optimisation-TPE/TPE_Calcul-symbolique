{
 "cells": [
  {
   "cell_type": "markdown",
   "id": "4bfa7073-272e-461b-9fd9-fd2d8b881482",
   "metadata": {},
   "source": [
    "# Noms et Matricules des membres du groupe.\n",
    "# Kembou Fosso Richel : 22U2118\n",
    "#    Tsemegne Martin Yvan : 22U2080\n",
    "#   Meffo Tahafo Lea Jecy : 22U2194\n",
    "# Kelodjou Nafissatou Ivana : 22T2894"
   ]
  },
  {
   "cell_type": "markdown",
   "id": "db114291-f8cb-47c1-85e4-3863bffc6a91",
   "metadata": {},
   "source": [
    "## TPE: C'est quoi le calcul symbolique?Faire une modélisation de sympy"
   ]
  },
  {
   "cell_type": "markdown",
   "id": "1854e8ac-a447-4150-b510-8614167a1a8f",
   "metadata": {},
   "source": [
    "#### Le calcul symbolique, aussi appelé calcul formel, est la manipulation d'expressions mathématiques exactes (avec des symboles et des variables) plutôt que d'approximations numériques. Il permet d'effectuer des opérations comme la simplification, l'intégration, la dérivation, la résolution d'équations, et la factorisation de manière automatique grâce à des logiciels spécialisés"
   ]
  },
  {
   "cell_type": "markdown",
   "id": "c246e6a5-d481-4ea7-9704-c9ca61ee281a",
   "metadata": {},
   "source": [
    "## Avantages du Calcul Symbolique\n",
    "\n",
    "*    Il donne des résultats exacts, pas d'approximations\n",
    "\n",
    "*    Il permet de mieux comprendre la structure mathématique\n",
    "\n",
    "*   Dérivation automatique : Pas d'erreurs de calcul manuel\n",
    "\n",
    "## Limitations\n",
    "\n",
    "*   Plus lent que le calcul numérique\n",
    "\n",
    "*    Pas toujours possible pour les problèmes très complexes\n",
    "\n",
    "*  Nécessite souvent une combinaison avec des méthodes numériques\n",
    "\n"
   ]
  },
  {
   "cell_type": "markdown",
   "id": "d59344c9-ae28-4512-9ec8-b3d043c0b6b5",
   "metadata": {},
   "source": [
    "#### Sympy est une bibliotheque python permettant de faire du calcul symbolique .Elle est indispensable pour générer du code optimisé et pour vérifier des calculs mathématiques complexes"
   ]
  },
  {
   "cell_type": "markdown",
   "id": "839b6391-bb5b-4140-b69f-7e0b340b5429",
   "metadata": {},
   "source": [
    "## Modélisation de sympy"
   ]
  },
  {
   "cell_type": "markdown",
   "id": "db553692-273e-4ed0-a9a9-7cbe71f50f4a",
   "metadata": {},
   "source": [
    "### Importation"
   ]
  },
  {
   "cell_type": "code",
   "execution_count": 1,
   "id": "fb5ca4e0-5df7-4fab-b504-12a99fde889a",
   "metadata": {},
   "outputs": [],
   "source": [
    "import sympy as sp\n",
    "sp.init_printing()  # Cette ligne est utilisée pour l'affichage mathématique"
   ]
  },
  {
   "cell_type": "markdown",
   "id": "9eeb367b-ac85-48e7-9f01-a4f75b05d419",
   "metadata": {},
   "source": [
    "### Création de symboles"
   ]
  },
  {
   "cell_type": "code",
   "execution_count": 2,
   "id": "09834996-f96a-41db-acb8-c758615922d3",
   "metadata": {},
   "outputs": [],
   "source": [
    "# Déclaration de variables symboliques\n",
    "x, y, z = sp.symbols('x y z')\n",
    "a, b = sp.symbols('a b', real=True)  # Nombres réels"
   ]
  },
  {
   "cell_type": "code",
   "execution_count": null,
   "id": "ef69e963-77d6-4192-ba05-9ef4f6e524b4",
   "metadata": {},
   "outputs": [],
   "source": []
  },
  {
   "cell_type": "markdown",
   "id": "6745bf32-d488-4f79-8cfe-408b6ea09283",
   "metadata": {},
   "source": [
    "### Expressions algébriques"
   ]
  },
  {
   "cell_type": "code",
   "execution_count": 3,
   "id": "5c73704b-3cc6-492b-9dfe-8ac8d148f64c",
   "metadata": {},
   "outputs": [
    {
     "name": "stdout",
     "output_type": "stream",
     "text": [
      "x**2 + 2*x + 1\n",
      "(x + 1)**2\n",
      "x**3 + 3*x**2*y + 3*x*y**2 + y**3\n"
     ]
    }
   ],
   "source": [
    "# Création d'expressions\n",
    "expr = x**2 + 2*x + 1\n",
    "print(expr)  # x**2 + 2*x + 1\n",
    "\n",
    "# Factorisation\n",
    "factorized = sp.factor(expr)\n",
    "print(factorized)  # (x + 1)**2\n",
    "\n",
    "# Développement\n",
    "expanded = sp.expand((x + y)**3)\n",
    "print(expanded)  # x**3 + 3*x**2*y + 3*x*y**2 + y**3"
   ]
  },
  {
   "cell_type": "markdown",
   "id": "c266f27b-0eb1-4800-8c54-37ca0eb18af0",
   "metadata": {},
   "source": [
    "### Calcul différentiel"
   ]
  },
  {
   "cell_type": "code",
   "execution_count": 4,
   "id": "a24385e8-5723-4b22-b9de-b6943bef4140",
   "metadata": {},
   "outputs": [
    {
     "name": "stdout",
     "output_type": "stream",
     "text": [
      "3*x**2 + cos(x)\n",
      "[2*x*y, x**2 + 2*y]\n"
     ]
    }
   ],
   "source": [
    "# Dérivée\n",
    "derivative = sp.diff(x**3 + sp.sin(x), x)\n",
    "print(derivative)  # 3*x**2 + cos(x)\n",
    "\n",
    "# Dérivée partielle\n",
    "f = x**2 * y + y**2 \n",
    "\n",
    "# Gradient\n",
    "gradient = [sp.diff(f, var) for var in (x, y)]\n",
    "print(gradient)  # [2*x*y, x**2 + 2*y]"
   ]
  },
  {
   "cell_type": "markdown",
   "id": "06ff22ea-7e9b-4408-9045-1da4cfbc6784",
   "metadata": {},
   "source": [
    "### Calcul intégral"
   ]
  },
  {
   "cell_type": "code",
   "execution_count": 5,
   "id": "dbc12791-a515-40b1-892a-12994355cd6a",
   "metadata": {},
   "outputs": [
    {
     "name": "stdout",
     "output_type": "stream",
     "text": [
      "x**3/3 - cos(x)\n",
      "1/3\n",
      "1\n"
     ]
    }
   ],
   "source": [
    "# Intégrale indéfinie\n",
    "integral = sp.integrate(x**2 + sp.sin(x), x)\n",
    "print(integral)  # x**3/3 - cos(x)\n",
    "\n",
    "# Intégrale définie\n",
    "definite_int = sp.integrate(x**2, (x, 0, 1))\n",
    "print(definite_int)  # 1/3\n",
    "\n",
    "# Intégrale impropre\n",
    "improper_int = sp.integrate(sp.exp(-x), (x, 0, sp.oo))\n",
    "print(improper_int)  # 1"
   ]
  },
  {
   "cell_type": "markdown",
   "id": "ec40d205-2d8f-4259-8b7b-bcaf55db64fa",
   "metadata": {},
   "source": [
    "### Equations différentielles"
   ]
  },
  {
   "cell_type": "code",
   "execution_count": 6,
   "id": "784c45db-18db-47a1-85f2-294222e26464",
   "metadata": {},
   "outputs": [
    {
     "name": "stdout",
     "output_type": "stream",
     "text": [
      "Eq(f(x), C1*exp(x))\n"
     ]
    }
   ],
   "source": [
    "# Déclaration de la fonction\n",
    "f = sp.Function('f')\n",
    "\n",
    "# Équation différentielle : f'(x) = f(x)\n",
    "diff_eq = sp.Eq(sp.diff(f(x), x), f(x))\n",
    "solution = sp.dsolve(diff_eq, f(x))\n",
    "print(solution)  # f(x) = C1*exp(x)"
   ]
  },
  {
   "cell_type": "markdown",
   "id": "d468952a-40ba-4685-8457-6a902464ce5e",
   "metadata": {},
   "source": [
    "### Algèbre linéaire symbolique"
   ]
  },
  {
   "cell_type": "code",
   "execution_count": 7,
   "id": "ee4a62b2-72c7-4af6-ab61-1865ca674c3e",
   "metadata": {},
   "outputs": [
    {
     "name": "stdout",
     "output_type": "stream",
     "text": [
      "Matrice A:\n",
      "⎡a  b⎤\n",
      "⎢    ⎥\n",
      "⎣1  2⎦\n",
      "Déterminant: 2*a - b\n",
      "Valeurs propres:\n",
      "⎧       ____________________                ____________________       ⎫\n",
      "⎪      ╱  2                                ╱  2                        ⎪\n",
      "⎨a   ╲╱  a  - 4⋅a + 4⋅b + 4          a   ╲╱  a  - 4⋅a + 4⋅b + 4        ⎬\n",
      "⎪─ - ─────────────────────── + 1: 1, ─ + ─────────────────────── + 1: 1⎪\n",
      "⎩2              2                    2              2                  ⎭\n"
     ]
    }
   ],
   "source": [
    "# Matrice symbolique\n",
    "A = sp.Matrix([[a, b], [1, 2]])\n",
    "print(\"Matrice A:\")\n",
    "sp.pprint(A)\n",
    "\n",
    "# Déterminant\n",
    "det_A = A.det()\n",
    "print(f\"Déterminant: {det_A}\")  # 2*a - b\n",
    "\n",
    "# Valeurs propres\n",
    "eigenvals = A.eigenvals()\n",
    "print(\"Valeurs propres:\")\n",
    "sp.pprint(eigenvals)"
   ]
  },
  {
   "cell_type": "markdown",
   "id": "4b8acb3a-63e9-4ba2-8b76-34b93cc27529",
   "metadata": {},
   "source": [
    "### Applications en Optimisation"
   ]
  },
  {
   "cell_type": "markdown",
   "id": "28f214af-f9a8-43f3-9949-923e2e9c5bc1",
   "metadata": {},
   "source": [
    "#### Calcul du gradient et de la Hessienne"
   ]
  },
  {
   "cell_type": "code",
   "execution_count": 37,
   "id": "ae5eee7b-b346-4947-ae47-2cdc39ff665c",
   "metadata": {},
   "outputs": [
    {
     "name": "stdout",
     "output_type": "stream",
     "text": [
      "Gradient: [2*x + 2*y, 2*x + 2*y]\n",
      "Hessienne:\n",
      "⎡2  2⎤\n",
      "⎢    ⎥\n",
      "⎣2  2⎦\n"
     ]
    }
   ],
   "source": [
    "# Fonction d'optimisation symbolique\n",
    "f = x**2 + y**2 + 2*x*y + 2\n",
    "\n",
    "# Gradient\n",
    "gradient = [sp.diff(f, var) for var in (x, y)]\n",
    "print(\"Gradient:\", gradient)  # [2*x + y, 2*y + x]\n",
    "\n",
    "# Hessienne\n",
    "hessian = sp.Matrix([[sp.diff(f, var1, var2) for var1 in (x, y)] \n",
    "                    for var2 in (x, y)])\n",
    "print(\"Hessienne:\")\n",
    "sp.pprint(hessian)\n",
    "# ⎡2   1⎤\n",
    "# ⎢     ⎥\n",
    "# ⎣1   2⎦"
   ]
  },
  {
   "cell_type": "markdown",
   "id": "9dd3e638-6a1a-4a5e-8740-e57eb8533945",
   "metadata": {},
   "source": [
    "#### Conditions d'optimalité"
   ]
  },
  {
   "cell_type": "code",
   "execution_count": 43,
   "id": "743fc3c9-3ed2-40ca-802b-d5062a56b827",
   "metadata": {},
   "outputs": [
    {
     "name": "stdout",
     "output_type": "stream",
     "text": [
      "Points critiques: {x: -y}\n",
      "Hessienne au point critique:\n",
      "⎡2  2⎤\n",
      "⎢    ⎥\n",
      "⎣2  2⎦\n",
      "La valeur obtenue au point d'optimalité est :  2\n"
     ]
    }
   ],
   "source": [
    "# Recherche des points critiques\n",
    "critical_points = sp.solve(gradient, (x, y))\n",
    "print(\"Points critiques:\", critical_points)  # {x: 0, y: 0}\n",
    "\n",
    "# Évaluation de la Hessienne au point critique\n",
    "hessian_at_critical = hessian.subs(critical_points)\n",
    "print(\"Hessienne au point critique:\")\n",
    "sp.pprint(hessian_at_critical)\n",
    "\n",
    "#Valeur obtenue en optimalité\n",
    "print(\"La valeur obtenue au point d'optimalité est : \", f.subs(critical_points))"
   ]
  },
  {
   "cell_type": "markdown",
   "id": "1a09e6a8-fb0a-4ee8-9cf1-f281d2357da8",
   "metadata": {},
   "source": [
    "#### Résolution d'équations"
   ]
  },
  {
   "cell_type": "code",
   "execution_count": 11,
   "id": "f7e2e1e1-efa5-43a8-a23d-af72f2bbf376",
   "metadata": {},
   "outputs": [
    {
     "name": "stdout",
     "output_type": "stream",
     "text": [
      "[-1, 3]\n",
      "{x: 2, y: -1}\n"
     ]
    }
   ],
   "source": [
    "# Équation polynomiale\n",
    "solutions = sp.solve(x**2 - 2*x - 3, x)\n",
    "print(solutions)  # [-1, 3]\n",
    "\n",
    "# Système d'équations\n",
    "system = [x + y - 1, x - y - 3]\n",
    "solutions = sp.solve(system, (x, y))\n",
    "print(solutions)  # {x: 2, y: -1}"
   ]
  },
  {
   "cell_type": "markdown",
   "id": "ec6cafc1-8f27-4557-b534-bef6c70ba8cd",
   "metadata": {},
   "source": [
    "## Exemple concret en ML Pour la maximisation d'une fonction"
   ]
  },
  {
   "cell_type": "markdown",
   "id": "e0a16b7e-9711-4b33-8aa6-d159f6be8f2b",
   "metadata": {},
   "source": [
    "### Optimisation simple. Degré 1"
   ]
  },
  {
   "cell_type": "code",
   "execution_count": 30,
   "id": "6e0ce9d0-84ea-4b84-8a65-6dbce67bd67e",
   "metadata": {},
   "outputs": [
    {
     "name": "stdout",
     "output_type": "stream",
     "text": [
      "-x**2 + 3*x + 1\n",
      "3 - 2*x\n",
      "[3/2]\n",
      "la valeur maximale atteinte par la fonction est  au point  x = [3/2] est : 13/4\n"
     ]
    }
   ],
   "source": [
    "f = -x**2 + 3*x + 1\n",
    "print(f)\n",
    "\n",
    "##On dérive l'expression \n",
    "der_f = sp.diff(f)\n",
    "print(der_f)\n",
    "\n",
    "##On affiche la Solui=tion\n",
    "\n",
    "value = sp.solve(der_f, x)\n",
    "print(value)\n",
    "\n",
    "print(\"la valeur maximale atteinte par la fonction est  au point  x = {} est : {}\".format(value, f.subs(x,value[0])))"
   ]
  },
  {
   "cell_type": "code",
   "execution_count": null,
   "id": "762c7c50-d4e7-4f92-994c-c81f4bc125bb",
   "metadata": {},
   "outputs": [],
   "source": []
  }
 ],
 "metadata": {
  "kernelspec": {
   "display_name": "Python 3 (ipykernel)",
   "language": "python",
   "name": "python3"
  },
  "language_info": {
   "codemirror_mode": {
    "name": "ipython",
    "version": 3
   },
   "file_extension": ".py",
   "mimetype": "text/x-python",
   "name": "python",
   "nbconvert_exporter": "python",
   "pygments_lexer": "ipython3",
   "version": "3.10.12"
  }
 },
 "nbformat": 4,
 "nbformat_minor": 5
}
